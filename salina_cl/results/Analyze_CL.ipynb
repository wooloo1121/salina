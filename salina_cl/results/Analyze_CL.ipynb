{
 "cells": [
  {
   "cell_type": "code",
   "execution_count": 12,
   "id": "f4a109d2",
   "metadata": {},
   "outputs": [],
   "source": [
    "import os\n",
    "import sys\n",
    "sys.path.insert(0, os.path.abspath('/private/home/jbgaya/Work/salina/salina_cl/'))"
   ]
  },
  {
   "cell_type": "markdown",
   "id": "ec926b46",
   "metadata": {},
   "source": [
    "# Loading logs"
   ]
  },
  {
   "cell_type": "code",
   "execution_count": 13,
   "id": "d3ead582",
   "metadata": {},
   "outputs": [
    {
     "name": "stdout",
     "output_type": "stream",
     "text": [
      "== Read  /private/home/jbgaya/Work/salina/salina_cl/results/run/cartpole_7tasks/ppo_subspace/seed=0\n",
      "== Read  /private/home/jbgaya/Work/salina/salina_cl/results/run/cartpole_7tasks/ppo_finetune/seed=0\n",
      "Found 2 logs\n"
     ]
    }
   ],
   "source": [
    "import salina.logger\n",
    "LOGS=salina.logger.read_directory(\"/private/home/jbgaya/Work/salina/salina_cl/results/run/cartpole_7tasks/\",use_bz2=True)"
   ]
  },
  {
   "cell_type": "markdown",
   "id": "5bbc7db9",
   "metadata": {},
   "source": [
    "# Extracting available scenarios"
   ]
  },
  {
   "cell_type": "code",
   "execution_count": 8,
   "id": "6fa2c906",
   "metadata": {},
   "outputs": [
    {
     "name": "stdout",
     "output_type": "stream",
     "text": [
      "Found  1  unique scenarios\n"
     ]
    }
   ],
   "source": [
    "def extract_scenario(log):\n",
    "    values={}\n",
    "    for k in log.hps:\n",
    "        if k.startswith(\"scenario\"):\n",
    "            values[k]=log.hps[k]\n",
    "    return values\n",
    "\n",
    "def has_scenario(log,scenario):\n",
    "    s=extract_scenario(log)\n",
    "    s=str(s)\n",
    "    return s==str(scenario)\n",
    "    \n",
    "def unique_scenarios(logs):\n",
    "    _unique_scenarios={}\n",
    "    for l in logs.logs:\n",
    "        scenario=extract_scenario(l)\n",
    "        _unique_scenarios[str(scenario)]=scenario\n",
    "    _unique_scenarios=[v for s,v in _unique_scenarios.items()]\n",
    "    return _unique_scenarios\n",
    "print(\"Found \",len(unique_scenarios(LOGS)),\" unique scenarios\")\n",
    "\n",
    "def generate_scenario_html(scenario):\n",
    "    results=[\"<h2>Scenario</h2>\"]\n",
    "    results.append(\"<ul>\")\n",
    "    \n",
    "    for k,v in scenario.items():\n",
    "        results.append(\"<li><b>\"+k+\"</b> =\"+str(v)+\"</li>\")\n",
    "    results.append(\"</ul>\")\n",
    "    return \"\".join(results)"
   ]
  },
  {
   "cell_type": "code",
   "execution_count": 19,
   "id": "19202782",
   "metadata": {},
   "outputs": [],
   "source": [
    "def generate_hps_html(hps):\n",
    "    results=[\"<h2>Hyper-parameters</h2>\"]\n",
    "    results.append(\"<ul>\")\n",
    "    \n",
    "    for k,v in hps.items():\n",
    "        if k.startswith(\"model\"):\n",
    "            results.append(\"<li><b>\"+k+\"</b> =\"+str(v)+\"</li>\")\n",
    "    results.append(\"</ul>\")\n",
    "    return \"\".join(results)\n",
    "\n",
    "def generate_reward_html(reward_mean,reward_std):\n",
    "    results=[\"<h2>Reward</h2>\"]\n",
    "    results.append(\"<table>\")\n",
    "    n,_=reward_mean.shape\n",
    "    \n",
    "    results.append(\"<tr><td>Task \\\\ Stage </td>\")\n",
    "    for stage in range(n): results.append(\"<td><b>\"+str(stage)+\"</b></td>\")\n",
    "    results.append(\"</tr>\")\n",
    "    \n",
    "    for task in range(n):\n",
    "        results.append(\"<tr><td><b>\"+str(task)+\"</b></td>\")\n",
    "        for stage in range(n): \n",
    "            r=reward_mean[task][stage]\n",
    "            rs=reward_std[task][stage]\n",
    "            if rs != 0:\n",
    "                results.append(\"<td>\"+str(r)+\"<i>(\"+str(rs)+\")</i></td>\")\n",
    "            else:\n",
    "                results.append(\"<td>\"+str(r))\n",
    "        results.append(\"</tr>\")\n",
    "    results.append(\"</table>\")\n",
    "    return \"\".join(results)\n"
   ]
  },
  {
   "cell_type": "markdown",
   "id": "39bc5344",
   "metadata": {},
   "source": [
    "# Extracting unique hps"
   ]
  },
  {
   "cell_type": "code",
   "execution_count": 20,
   "id": "9d277328",
   "metadata": {},
   "outputs": [],
   "source": [
    "# Remove the run information and extrat the hps as a str in each log\n",
    "import copy\n",
    "def extract_hps(log):\n",
    "    values={}\n",
    "    for k,v in log.hps.items():\n",
    "        if not k==\"model/seed\" and not k.endswith(\"device\"):\n",
    "            values[k]=v\n",
    "    return values\n",
    "    "
   ]
  },
  {
   "cell_type": "markdown",
   "id": "d0a48f31",
   "metadata": {},
   "source": [
    "# Scenario Analysis"
   ]
  },
  {
   "cell_type": "code",
   "execution_count": 21,
   "id": "d39359a9",
   "metadata": {},
   "outputs": [
    {
     "data": {
      "text/html": [
       "<h2>Scenario</h2><ul><li><b>scenario/classname</b> =salina_cl.scenarios.classic_control.cartpole.cartpole_7tasks</li><li><b>scenario/name</b> =cartpole_7tasks</li><li><b>scenario/n_train_envs</b> =16</li><li><b>scenario/n_evaluation_envs</b> =64</li><li><b>scenario/n_tasks</b> =7</li><li><b>scenario/n_steps</b> =100000</li></ul>"
      ],
      "text/plain": [
       "<IPython.core.display.HTML object>"
      ]
     },
     "metadata": {},
     "output_type": "display_data"
    },
    {
     "name": "stdout",
     "output_type": "stream",
     "text": [
      "Found  2  different Hps values\n",
      "Analyzing  1  logs\n"
     ]
    },
    {
     "data": {
      "text/html": [
       "<h2>Hyper-parameters</h2><ul><li><b>model/classname</b> =salina_cl.models.subspace.Incremental</li><li><b>model/params/evaluation/seed</b> =0</li><li><b>model/params/evaluation/n_rollouts</b> =5</li><li><b>model/params/evaluation/evaluate_success</b> =False</li><li><b>model/params/algorithm/classname</b> =salina_cl.algorithms.ppo.ppo</li><li><b>model/params/algorithm/params/optimizer_policy/classname</b> =torch.optim.Adam</li><li><b>model/params/algorithm/params/optimizer_policy/lr</b> =0.0003</li><li><b>model/params/algorithm/params/optimizer_critic/classname</b> =torch.optim.Adam</li><li><b>model/params/algorithm/params/optimizer_critic/lr</b> =0.0003</li><li><b>model/params/algorithm/params/clip_grad</b> =10.0</li><li><b>model/params/algorithm/params/control_every_n_epochs</b> =10</li><li><b>model/params/algorithm/params/n_control_rollouts</b> =1</li><li><b>model/params/algorithm/params/n_timesteps</b> =32</li><li><b>model/params/algorithm/params/n_processes</b> =1</li><li><b>model/params/algorithm/params/n_mini_batches</b> =4</li><li><b>model/params/algorithm/params/n_envs_per_minibatch</b> =16</li><li><b>model/params/algorithm/params/n_timesteps_per_minibatch</b> =16</li><li><b>model/params/algorithm/params/n_times_per_minibatch</b> =1</li><li><b>model/params/algorithm/params/discount_factor</b> =0.99</li><li><b>model/params/algorithm/params/clip_ratio</b> =0.2</li><li><b>model/params/algorithm/params/action_std</b> =0.4</li><li><b>model/params/algorithm/params/gae</b> =0.95</li><li><b>model/params/algorithm/params/reward_scaling</b> =1.0</li><li><b>model/params/algorithm/params/time_limit</b> =0</li><li><b>model/params/policy_agent/classname</b> =salina_cl.agents.subspace_agents.SubspaceActionAgent</li><li><b>model/params/policy_agent/hidden_size</b> =8</li><li><b>model/params/policy_agent/n_layers</b> =2</li><li><b>model/params/policy_agent/input_dimension</b> =nil</li><li><b>model/params/policy_agent/output_dimension</b> =nil</li><li><b>model/params/policy_agent/n_initial_anchors</b> =1</li><li><b>model/params/policy_agent/dist_type</b> =flat</li><li><b>model/params/critic_agent/classname</b> =salina_cl.agents.subspace_agents.CriticAgent</li><li><b>model/params/critic_agent/hidden_size</b> =32</li><li><b>model/params/critic_agent/n_layers</b> =2</li><li><b>model/params/critic_agent/input_dimension</b> =nil</li><li><b>model/params/critic_agent/n_anchors</b> =None</li></ul>"
      ],
      "text/plain": [
       "<IPython.core.display.HTML object>"
      ]
     },
     "metadata": {},
     "output_type": "display_data"
    },
    {
     "data": {
      "text/html": [
       "<h2>Reward</h2><table><tr><td>Task \\ Stage </td><td><b>0</b></td><td><b>1</b></td><td><b>2</b></td><td><b>3</b></td><td><b>4</b></td><td><b>5</b></td><td><b>6</b></td></tr><tr><td><b>0</b></td><td>43.0<td>43.0<td>46.0<td>44.0<td>45.0<td>45.0<td>45.0</tr><tr><td><b>1</b></td><td>42.0<td>179.0<td>180.0<td>181.0<td>179.0<td>181.0<td>181.0</tr><tr><td><b>2</b></td><td>22.0<td>95.0<td>174.0<td>179.0<td>172.0<td>173.0<td>175.0</tr><tr><td><b>3</b></td><td>34.0<td>42.0<td>47.0<td>67.0<td>65.0<td>62.0<td>66.0</tr><tr><td><b>4</b></td><td>44.0<td>53.0<td>58.0<td>60.0<td>69.0<td>67.0<td>74.0</tr><tr><td><b>5</b></td><td>83.0<td>112.0<td>105.0<td>105.0<td>107.0<td>116.0<td>116.0</tr><tr><td><b>6</b></td><td>44.0<td>103.0<td>127.0<td>136.0<td>130.0<td>133.0<td>155.0</tr></table>"
      ],
      "text/plain": [
       "<IPython.core.display.HTML object>"
      ]
     },
     "metadata": {},
     "output_type": "display_data"
    },
    {
     "name": "stdout",
     "output_type": "stream",
     "text": [
      "Analyzing  1  logs\n"
     ]
    },
    {
     "data": {
      "text/html": [
       "<h2>Hyper-parameters</h2><ul><li><b>model/classname</b> =salina_cl.models.single.FineTune</li><li><b>model/params/evaluation/seed</b> =0</li><li><b>model/params/evaluation/n_rollouts</b> =10</li><li><b>model/params/evaluation/evaluate_success</b> =False</li><li><b>model/params/algorithm/classname</b> =salina_cl.algorithms.ppo.ppo</li><li><b>model/params/algorithm/params/optimizer_policy/classname</b> =torch.optim.Adam</li><li><b>model/params/algorithm/params/optimizer_policy/lr</b> =0.0003</li><li><b>model/params/algorithm/params/optimizer_critic/classname</b> =torch.optim.Adam</li><li><b>model/params/algorithm/params/optimizer_critic/lr</b> =0.0003</li><li><b>model/params/algorithm/params/clip_grad</b> =10.0</li><li><b>model/params/algorithm/params/control_every_n_epochs</b> =10</li><li><b>model/params/algorithm/params/n_control_rollouts</b> =1</li><li><b>model/params/algorithm/params/n_timesteps</b> =32</li><li><b>model/params/algorithm/params/n_processes</b> =1</li><li><b>model/params/algorithm/params/n_mini_batches</b> =4</li><li><b>model/params/algorithm/params/n_envs_per_minibatch</b> =16</li><li><b>model/params/algorithm/params/n_timesteps_per_minibatch</b> =16</li><li><b>model/params/algorithm/params/n_times_per_minibatch</b> =1</li><li><b>model/params/algorithm/params/discount_factor</b> =0.99</li><li><b>model/params/algorithm/params/clip_ratio</b> =0.2</li><li><b>model/params/algorithm/params/action_std</b> =0.4</li><li><b>model/params/algorithm/params/gae</b> =0.95</li><li><b>model/params/algorithm/params/reward_scaling</b> =1.0</li><li><b>model/params/algorithm/params/time_limit</b> =0</li><li><b>model/params/policy_agent/classname</b> =salina_cl.agents.single_agents.ActionAgent</li><li><b>model/params/policy_agent/hidden_size</b> =8</li><li><b>model/params/policy_agent/n_layers</b> =2</li><li><b>model/params/policy_agent/input_dimension</b> =nil</li><li><b>model/params/policy_agent/output_dimension</b> =nil</li><li><b>model/params/critic_agent/classname</b> =salina_cl.agents.single_agents.CriticAgent</li><li><b>model/params/critic_agent/hidden_size</b> =32</li><li><b>model/params/critic_agent/n_layers</b> =2</li><li><b>model/params/critic_agent/input_dimension</b> =nil</li></ul>"
      ],
      "text/plain": [
       "<IPython.core.display.HTML object>"
      ]
     },
     "metadata": {},
     "output_type": "display_data"
    },
    {
     "data": {
      "text/html": [
       "<h2>Reward</h2><table><tr><td>Task \\ Stage </td><td><b>0</b></td><td><b>1</b></td><td><b>2</b></td><td><b>3</b></td><td><b>4</b></td><td><b>5</b></td><td><b>6</b></td></tr><tr><td><b>0</b></td><td>43.0<td>76.0<td>196.0<td>200.0<td>200.0<td>200.0<td>200.0</tr><tr><td><b>1</b></td><td>37.0<td>107.0<td>200.0<td>200.0<td>200.0<td>200.0<td>200.0</tr><tr><td><b>2</b></td><td>20.0<td>70.0<td>192.0<td>119.0<td>109.0<td>105.0<td>125.0</tr><tr><td><b>3</b></td><td>35.0<td>56.0<td>71.0<td>167.0<td>185.0<td>199.0<td>123.0</tr><tr><td><b>4</b></td><td>44.0<td>62.0<td>80.0<td>169.0<td>179.0<td>194.0<td>116.0</tr><tr><td><b>5</b></td><td>81.0<td>109.0<td>183.0<td>170.0<td>134.0<td>185.0<td>182.0</tr><tr><td><b>6</b></td><td>42.0<td>78.0<td>198.0<td>200.0<td>200.0<td>200.0<td>200.0</tr></table>"
      ],
      "text/plain": [
       "<IPython.core.display.HTML object>"
      ]
     },
     "metadata": {},
     "output_type": "display_data"
    }
   ],
   "source": [
    "import pandas as pd\n",
    "import numpy as np\n",
    "from IPython.display import display, HTML\n",
    "\n",
    "def analyze_runs(logs):\n",
    "    print(\"Analyzing \",len(logs),\" logs\")\n",
    "    hps=extract_hps(logs[0])\n",
    "    dfs=[]\n",
    "    for log in logs:\n",
    "        df=log.to_dataframe()\n",
    "        _cols=[c for c in df.columns if c.startswith(\"evaluation\")]+[\"iteration\"]        \n",
    "        df=df[_cols]\n",
    "        dfs.append(df)\n",
    "    \n",
    "    df=pd.concat(dfs)\n",
    "    df_mean=df.groupby(\"iteration\",as_index=False).mean()\n",
    "    df_std=df.groupby(\"iteration\",as_index=False).std()\n",
    "    columns=[c for c in df_mean.columns if not c==\"iteration\"]\n",
    "    df_mean=df_mean.dropna(subset=columns,how=\"all\")\n",
    "    df_std=df_std.dropna(subset=columns,how=\"all\")\n",
    "    n_tasks=df_mean[\"iteration\"].max()+1\n",
    "    #Collection reward\n",
    "    r_mean=np.zeros((n_tasks,n_tasks))\n",
    "    r_std=np.zeros((n_tasks,n_tasks))\n",
    "    memory_mean=np.zeros((n_tasks,))\n",
    "    memory_std=np.zeros((n_tasks,))\n",
    "    for task in range(n_tasks):\n",
    "        for stage in range(n_tasks):\n",
    "            n=\"evaluation/\"+str(task)+\"/avg_reward\"\n",
    "            d=df_mean[df_mean[\"iteration\"]==stage]\n",
    "            \n",
    "            reward_mean=d.iloc[0][n]\n",
    "            memory_mean[stage]=d.iloc[0][\"evaluation/memory/n_parameters\"]\n",
    "            r_mean[task][stage]=round(reward_mean,0)\n",
    "            \n",
    "            d=df_std[df_std[\"iteration\"]==stage]\n",
    "            try:\n",
    "                reward_std=d.iloc[0][n]\n",
    "                memory_std[stage]=d.iloc[0][\"evaluation/memory/n_parameters\"]\n",
    "            except:\n",
    "                reward_std = 0\n",
    "                memory_std[stage]=memory_mean[stage]\n",
    "            \n",
    "            r_std[task][stage]=reward_std\n",
    "    return r_mean,r_std,memory_mean,memory_std,hps\n",
    "        \n",
    "    \n",
    "def analyze_scenario(logs,scenario):\n",
    "    h=generate_scenario_html(scenario)\n",
    "    display(HTML(h))\n",
    "    per_hps={}\n",
    "    for log in logs.logs:\n",
    "        if not has_scenario(log,scenario):\n",
    "            continue\n",
    "        h=extract_hps(log)\n",
    "        str_h=str(h)\n",
    "        if not str_h in per_hps:\n",
    "            per_hps[str_h]=[]\n",
    "        per_hps[str_h].append(log)\n",
    "    \n",
    "    print(\"Found \",len(per_hps),\" different Hps values\")\n",
    "    \n",
    "    for h in per_hps:\n",
    "        reward_mean,reward_std,memory_mean,memory_std,hps=analyze_runs(per_hps[h])\n",
    "    \n",
    "        #Generate HTML\n",
    "        h=generate_hps_html(hps)\n",
    "        display(HTML(h))\n",
    "        h=generate_reward_html(reward_mean,reward_std,)\n",
    "        display(HTML(h))\n",
    "\n",
    "for scenario in unique_scenarios(LOGS): \n",
    "    analyze_scenario(LOGS,scenario)\n"
   ]
  },
  {
   "cell_type": "code",
   "execution_count": null,
   "id": "90d54ee1",
   "metadata": {},
   "outputs": [],
   "source": []
  },
  {
   "cell_type": "code",
   "execution_count": 27,
   "id": "dc3985ad",
   "metadata": {},
   "outputs": [],
   "source": [
    "d = {\"avg_reward\":100}"
   ]
  },
  {
   "cell_type": "code",
   "execution_count": 32,
   "id": "3b290dd8",
   "metadata": {},
   "outputs": [
    {
     "data": {
      "text/plain": [
       "\"{'avg_reward': 100}\""
      ]
     },
     "execution_count": 32,
     "metadata": {},
     "output_type": "execute_result"
    }
   ],
   "source": [
    "str(d)"
   ]
  },
  {
   "cell_type": "code",
   "execution_count": null,
   "id": "795443be",
   "metadata": {},
   "outputs": [],
   "source": []
  }
 ],
 "metadata": {
  "kernelspec": {
   "display_name": "Python 3",
   "language": "python",
   "name": "python3"
  },
  "language_info": {
   "codemirror_mode": {
    "name": "ipython",
    "version": 3
   },
   "file_extension": ".py",
   "mimetype": "text/x-python",
   "name": "python",
   "nbconvert_exporter": "python",
   "pygments_lexer": "ipython3",
   "version": "3.8.8"
  }
 },
 "nbformat": 4,
 "nbformat_minor": 5
}
